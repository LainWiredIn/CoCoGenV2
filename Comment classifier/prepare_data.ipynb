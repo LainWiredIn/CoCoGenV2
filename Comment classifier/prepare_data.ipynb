{
 "cells": [
  {
   "cell_type": "code",
   "execution_count": 3,
   "metadata": {},
   "outputs": [],
   "source": [
    "import os\n",
    "os.chdir('scratch/')"
   ]
  },
  {
   "cell_type": "code",
   "execution_count": 5,
   "metadata": {},
   "outputs": [],
   "source": [
    "import pandas as pd\n",
    "from sklearn.model_selection import train_test_split"
   ]
  },
  {
   "cell_type": "code",
   "execution_count": 6,
   "metadata": {},
   "outputs": [],
   "source": [
    "TRAIN_FILE = 'IRSE_FIRE_2022_Track_Training_Data_preprocessed.csv'\n",
    "TEST_FILE = 'IRSE_FIRE_2022_Track_Test_Data_1000.csv'"
   ]
  },
  {
   "cell_type": "code",
   "execution_count": null,
   "metadata": {},
   "outputs": [],
   "source": [
    "irse_df = pd.read_csv(TRAIN_FILE)\n",
    "\n",
    "print(irse_df.info())\n",
    "\n",
    "irse_df.head()"
   ]
  },
  {
   "cell_type": "code",
   "execution_count": null,
   "metadata": {},
   "outputs": [],
   "source": [
    "test_df = pd.read_csv(TEST_FILE)\n",
    "\n",
    "print(test_df.info())\n",
    "\n",
    "test_df.head()"
   ]
  },
  {
   "cell_type": "code",
   "execution_count": null,
   "metadata": {},
   "outputs": [],
   "source": [
    "classes = sorted(irse_df['Class'].value_counts().index.tolist())\n",
    "\n",
    "classes"
   ]
  },
  {
   "cell_type": "code",
   "execution_count": null,
   "metadata": {},
   "outputs": [],
   "source": [
    "irse_df['label'] = irse_df['Class'].apply(lambda l : classes.index(l))\n",
    "test_df['label'] = test_df['Class'].apply(lambda l : classes.index(l))\n",
    "\n",
    "irse_df.info(), test_df.info()"
   ]
  },
  {
   "cell_type": "code",
   "execution_count": null,
   "metadata": {},
   "outputs": [],
   "source": [
    "irse_df = irse_df.drop_duplicates()\n",
    "\n",
    "irse_df.info()"
   ]
  },
  {
   "cell_type": "code",
   "execution_count": null,
   "metadata": {},
   "outputs": [],
   "source": [
    "train_df, dev_df = train_test_split(irse_df, test_size=0.1, \n",
    "    stratify=irse_df['label'])\n",
    "\n",
    "train_df.shape, dev_df.shape"
   ]
  },
  {
   "cell_type": "code",
   "execution_count": 13,
   "metadata": {},
   "outputs": [],
   "source": [
    "train_df.to_csv('irse.train.csv', index=False)\n",
    "dev_df.to_csv('irse.dev.csv', index=False)"
   ]
  },
  {
   "cell_type": "code",
   "execution_count": null,
   "metadata": {},
   "outputs": [],
   "source": [
    "pp_comments = irse_df['Comments']\n",
    "pp_contexts = irse_df['Surrounding Code Context']\n",
    "pp_labels = irse_df['label']\n",
    "match_indexes = list()\n",
    "\n",
    "for comment, context, label in zip(pp_comments, pp_contexts, pp_labels):\n",
    "    match = test_df[(test_df['Comments'] == comment) & \\\n",
    "        (test_df['Surrounding Code Context'] == context)]\n",
    "    match_indexes.extend(match.index.tolist())\n",
    "    \n",
    "    match_labels = match['label'].tolist()\n",
    "    for ml in match_labels:\n",
    "        assert ml == label\n",
    "match_indexes = list(set(match_indexes))\n",
    "\n",
    "len(match_indexes)"
   ]
  },
  {
   "cell_type": "code",
   "execution_count": null,
   "metadata": {},
   "outputs": [],
   "source": [
    "test_df_pure = test_df.drop_duplicates().drop(index=match_indexes, errors='ignore')\n",
    "\n",
    "print(test_df_pure.info())\n",
    "\n",
    "test_df_pure.head()"
   ]
  },
  {
   "cell_type": "code",
   "execution_count": 13,
   "metadata": {},
   "outputs": [],
   "source": [
    "test_df_pure.to_csv('irse.test.csv', index=False)"
   ]
  },
  {
   "cell_type": "code",
   "execution_count": null,
   "metadata": {},
   "outputs": [],
   "source": [
    "test_df.to_csv('irse.given-test.csv', index=False)"
   ]
  },
  {
   "cell_type": "code",
   "execution_count": null,
   "metadata": {},
   "outputs": [],
   "source": []
  }
 ],
 "metadata": {
  "kernelspec": {
   "display_name": "Python 3.8.10 64-bit",
   "language": "python",
   "name": "python3"
  },
  "language_info": {
   "codemirror_mode": {
    "name": "ipython",
    "version": 3
   },
   "file_extension": ".py",
   "mimetype": "text/x-python",
   "name": "python",
   "nbconvert_exporter": "python",
   "pygments_lexer": "ipython3",
   "version": "3.8.10"
  },
  "orig_nbformat": 4,
  "vscode": {
   "interpreter": {
    "hash": "916dbcbb3f70747c44a77c7bcd40155683ae19c65e1c03b4aa3499c5328201f1"
   }
  }
 },
 "nbformat": 4,
 "nbformat_minor": 2
}
